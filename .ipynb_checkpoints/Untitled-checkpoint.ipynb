{
 "cells": [
  {
   "cell_type": "markdown",
   "metadata": {},
   "source": [
    "# Shape Manipulation"
   ]
  },
  {
   "cell_type": "code",
   "execution_count": null,
   "metadata": {},
   "outputs": [],
   "source": [
    "import numpy as np"
   ]
  },
  {
   "cell_type": "code",
   "execution_count": null,
   "metadata": {},
   "outputs": [],
   "source": [
    "# Shape Manipulation\n",
    "\n",
    "K = np.floor(np.random.random((3,4)) * 10)\n",
    "print(\"K is : \\n\"+str(K))\n",
    "\n",
    "print(\"Flattened K is : \\n\"+str(K.flatten()))\n",
    "\n",
    "print(\"Reshaped K is : \\n\"+str(K.reshape(4,3)))\n",
    "\n",
    "print(\"Transposed K is : \\n\"+str(K.T))\n",
    "\n",
    "K.resize(6,2) # Resize will affect the original array while using reshape create a new reshaped instance of the array.\n",
    "print(\"Resized K is : \\n\"+str(K))  \n",
    "\n",
    "print(\"Reshaped K is : \\n\"+str(K.reshape(-1,4)))  #If a dimension is given as -1 in a reshaping operation, the other dimensions are automatically calculated"
   ]
  },
  {
   "cell_type": "code",
   "execution_count": null,
   "metadata": {},
   "outputs": [],
   "source": []
  }
 ],
 "metadata": {
  "kernelspec": {
   "display_name": "Python 3",
   "language": "python",
   "name": "python3"
  }
 },
 "nbformat": 4,
 "nbformat_minor": 2
}
