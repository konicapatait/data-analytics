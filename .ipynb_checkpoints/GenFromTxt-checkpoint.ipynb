{
 "cells": [
  {
   "cell_type": "markdown",
   "metadata": {},
   "source": [
    "# Problem -2\n",
    "\n",
    "Load data from a text file, with missing values handled as specified.\n",
    "\n",
    " * Use of GenFromTxt in Numpy\n",
    " ** Demimited with Fixed length Column\n",
    " ** Delimited with mixed Dtype"
   ]
  },
  {
   "cell_type": "code",
   "execution_count": 1,
   "metadata": {},
   "outputs": [],
   "source": [
    "import io \n",
    "import numpy as np"
   ]
  },
  {
   "cell_type": "code",
   "execution_count": 22,
   "metadata": {},
   "outputs": [
    {
     "name": "stdout",
     "output_type": "stream",
     "text": [
      "(b'Konica', b'Patait', 3, 23, 1988)\n"
     ]
    }
   ],
   "source": [
    "s = io.StringIO(\"KonicaPatait03231988\")\n",
    "data = np.genfromtxt(s, \n",
    "                   dtype = 'S6,S6,i8,i8,i8',\n",
    "                   delimiter=[6,6,2,2,4],\n",
    "                   names=['FirstName','LastName',\"MonthInDOB\",\"DateINDOB\",\"YearINDOB\"])\n",
    "print(data)"
   ]
  },
  {
   "cell_type": "code",
   "execution_count": 29,
   "metadata": {},
   "outputs": [
    {
     "name": "stdout",
     "output_type": "stream",
     "text": [
      "(1988, 23, 3, b'Konica', b'Patait')\n"
     ]
    }
   ],
   "source": [
    "s = io.StringIO('1988,23,03,Konica,Patait')\n",
    "data = np.genfromtxt(s,\n",
    "                     dtype = [('YearINDOB',\"i8\"), ('DateINDOB',\"i8\"), ('MonthInDOB',\"i8\"), ('FirstName',\"S6\"), ('LastName',\"S6\")],\n",
    "                    delimiter=\",\")\n",
    "print(data)"
   ]
  },
  {
   "cell_type": "code",
   "execution_count": null,
   "metadata": {},
   "outputs": [],
   "source": []
  },
  {
   "cell_type": "code",
   "execution_count": null,
   "metadata": {},
   "outputs": [],
   "source": []
  }
 ],
 "metadata": {
  "kernelspec": {
   "display_name": "Python 3",
   "language": "python",
   "name": "python3"
  },
  "language_info": {
   "codemirror_mode": {
    "name": "ipython",
    "version": 3
   },
   "file_extension": ".py",
   "mimetype": "text/x-python",
   "name": "python",
   "nbconvert_exporter": "python",
   "pygments_lexer": "ipython3",
   "version": "3.7.3"
  }
 },
 "nbformat": 4,
 "nbformat_minor": 2
}
