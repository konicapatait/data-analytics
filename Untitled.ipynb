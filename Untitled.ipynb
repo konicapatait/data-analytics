{
 "cells": [
  {
   "cell_type": "markdown",
   "metadata": {},
   "source": [
    "# Broadcasting\n",
    "\n",
    "* Broadcasting allows universal functions to deal in a meaningful way with inputs that do not have exactly the same shape \n",
    "<ol>\n",
    "    <li>\n",
    "Rule 1: if all input arrays do not have the same number of dimensions, a “1” will be repeatedly prepended to the shapes of the smaller arrays until all the arrays have the same number of dimensions.\n",
    "    </li>\n",
    "     <li>\n",
    "Rule 2: An arrays with a size of 1 along a particular dimension act as if they had the size of the array with the largest shape along that dimension.\n",
    "    </li>\n",
    "</ol>"
   ]
  },
  {
   "cell_type": "code",
   "execution_count": 1,
   "metadata": {},
   "outputs": [],
   "source": [
    "import numpy as np\n"
   ]
  },
  {
   "cell_type": "code",
   "execution_count": 42,
   "metadata": {},
   "outputs": [
    {
     "name": "stdout",
     "output_type": "stream",
     "text": [
      "Values at the indices in B are: \n",
      "[ 4 25 64]\n",
      "Values at the indices in C are: \n",
      "[[ 0  9]\n",
      " [16 25]]\n",
      "Sliced with multi-dimentional array[[[  0   0   0]\n",
      "  [255   0   0]\n",
      "  [  0 255   0]\n",
      "  [  0   0   0]]\n",
      "\n",
      " [[  0   0   0]\n",
      "  [  0   0 255]\n",
      "  [255 255 255]\n",
      "  [  0   0   0]]]\n",
      "Multi-dimentional array \n",
      "[[91. 34. 64. 18. 13.]\n",
      " [53.  1. 94. 23. 56.]\n",
      " [60. 65. 30.  3. 55.]\n",
      " [ 1. 39. 86. 18. 52.]] \n",
      " sliced using: \n",
      " [[2 3]\n",
      " [0 1]] and \n",
      " [[2 3]\n",
      " [0 1]]\n",
      "Sliced array is : \n",
      " [[30. 18.]\n",
      " [91.  1.]]\n"
     ]
    }
   ],
   "source": [
    "# Slicing the array with array of indices\n",
    "\n",
    "A = np.arange(10)**2\n",
    "B = np.array([2,5,8])\n",
    "print(\"Values at the indices in B are: \")\n",
    "print(A[B])\n",
    "\n",
    "print(\"Values at the indices in C are: \")\n",
    "C = np.array([(0,3),(4,5)])\n",
    "print(A[C])\n",
    "\n",
    "palette = np.array( [ [0,0,0],                # black\n",
    "                      [255,0,0],              # red\n",
    "                      [0,255,0],              # green\n",
    "                      [0,0,255],              # blue\n",
    "                      [255,255,255] ] )       # white\n",
    "image = np.array( [ [ 0, 1, 2, 0 ],           # each value corresponds to a color in the palette\n",
    "                    [ 0, 3, 4, 0 ]  ] )\n",
    "print('Sliced with multi-dimentional array'+ str(palette[image]))    \n",
    "\n",
    "MutliDimentionalArray = np.floor(np.random.random((4,5))* 100)\n",
    "IndexRow = np.array([[2,3],[0,1]])\n",
    "IndexColumn = np.array([[2,3],[0,1]])\n",
    "\n",
    "print('Multi-dimentional array \\n'+ str(MutliDimentionalArray) + ' \\n sliced using: \\n {} and \\n {}'.format(IndexRow, IndexColumn))\n",
    "\n",
    "print('Sliced array is : \\n {}'.format(MutliDimentionalArray[IndexRow,IndexColumn]))"
   ]
  },
  {
   "cell_type": "code",
   "execution_count": 60,
   "metadata": {},
   "outputs": [
    {
     "name": "stdout",
     "output_type": "stream",
     "text": [
      "[[ 0.          0.84147098  0.90929743  0.14112001]\n",
      " [-0.7568025  -0.95892427 -0.2794155   0.6569866 ]\n",
      " [ 0.98935825  0.41211849 -0.54402111 -0.99999021]\n",
      " [-0.53657292  0.42016704  0.99060736  0.65028784]\n",
      " [-0.28790332 -0.96139749 -0.75098725  0.14987721]]\n"
     ]
    },
    {
     "data": {
      "text/plain": [
       "array([2, 0, 3, 1])"
      ]
     },
     "execution_count": 60,
     "metadata": {},
     "output_type": "execute_result"
    }
   ],
   "source": [
    "time = np.linspace(20,145,5)\n",
    "data = np.sin(np.arange(20)).reshape(5,4)\n",
    "print(data)\n",
    "ind = data.argmax(axis=0)\n",
    "ind"
   ]
  },
  {
   "cell_type": "code",
   "execution_count": 90,
   "metadata": {},
   "outputs": [
    {
     "name": "stdout",
     "output_type": "stream",
     "text": [
      "Value of E is \n",
      " [[False False False False]\n",
      " [False  True  True  True]\n",
      " [ True  True  True  True]]\n",
      "Value of F is \n",
      " [ 5  6  7  8  9 10 11]\n",
      "[[0 1 2 3]\n",
      " [4 0 0 0]\n",
      " [0 0 0 0]]\n",
      "Updated Value of D is \n",
      " [[0 1 2 3]\n",
      " [4 0 0 0]\n",
      " [0 0 0 0]]\n"
     ]
    }
   ],
   "source": [
    "# Indexing with boolean array\n",
    "\n",
    "D = np.arange(12).reshape(3,4)\n",
    "E = D > 4   # E will be boolean with D's shape\n",
    "print(\"Value of E is \\n {}\".format(E))\n",
    "F = D[E]    # D with selected elements\n",
    "print(\"Value of F is \\n {}\".format(F))\n",
    "\n",
    "D[E] = 0    # Update the value based upon the boolean index\n",
    "print(D)\n",
    "print(\"Updated Value of D is \\n {}\".format(D))\n",
    " "
   ]
  },
  {
   "cell_type": "code",
   "execution_count": 199,
   "metadata": {},
   "outputs": [
    {
     "name": "stdout",
     "output_type": "stream",
     "text": [
      "(400, 400)\n"
     ]
    },
    {
     "data": {
      "image/png": "[encoded data removed]",
      "text/plain": [
       "<Figure size 432x288 with 1 Axes>"
      ]
     },
     "metadata": {
      "needs_background": "light"
     },
     "output_type": "display_data"
    }
   ],
   "source": [
    "# Example of boolean indexing to generate the image\n",
    "\n",
    "import numpy as np\n",
    "import matplotlib.pyplot as pp\n",
    "\n",
    "def mandelbrot(h,w,maxit =50):\n",
    "    y,x = np.ogrid[ -1.4:1.4:h*1j, -2:0.8:w*1j ]\n",
    "    c = x+y*1j  \n",
    "    z = c\n",
    "    divtime = maxit + np.zeros(z.shape, dtype=int)\n",
    "    print(z.shape)\n",
    "    for i in range(maxit):\n",
    "        z = z**2 + c\n",
    "        diverge = z * np.conj(z) > 2**2\n",
    "        div_now = diverge & (divtime==maxit)\n",
    "        divtime[div_now] = i \n",
    "        z[diverge] = 2\n",
    "    return divtime\n",
    "\n",
    "pp.imshow(mandelbrot(400,400))\n",
    "\n",
    "pp.show()\n"
   ]
  },
  {
   "cell_type": "code",
   "execution_count": 210,
   "metadata": {},
   "outputs": [
    {
     "data": {
      "image/png": "[encoded data removed]",
      "text/plain": [
       "<Figure size 432x288 with 1 Axes>"
      ]
     },
     "metadata": {
      "needs_background": "light"
     },
     "output_type": "display_data"
    }
   ],
   "source": [
    "# Histograms\n",
    "\n",
    "import numpy as np\n",
    "import matplotlib.pyplot as pp\n",
    "\n",
    "mu, sigma = 2, 0.5\n",
    "\n",
    "v = np.random.normal(mu, sigma, 10000)\n",
    "pp.hist(v, bins=50, density=1)       # matplotlib version (plot)\n",
    "pp.show()\n"
   ]
  },
  {
   "cell_type": "code",
   "execution_count": 192,
   "metadata": {},
   "outputs": [
    {
     "ename": "TypeError",
     "evalue": "'>' not supported between instances of 'complex' and 'complex'",
     "output_type": "error",
     "traceback": [
      "\u001b[0;31m---------------------------------------------------------------------------\u001b[0m",
      "\u001b[0;31mTypeError\u001b[0m                                 Traceback (most recent call last)",
      "\u001b[0;32m<ipython-input-192-d990da4df995>\u001b[0m in \u001b[0;36m<module>\u001b[0;34m\u001b[0m\n\u001b[0;32m----> 1\u001b[0;31m \u001b[0;34m(\u001b[0m\u001b[0;36m1.5\u001b[0m\u001b[0;34m+\u001b[0m\u001b[0;36m1.8j\u001b[0m\u001b[0;34m)\u001b[0m \u001b[0;34m>\u001b[0m \u001b[0;36m2\u001b[0m\u001b[0;34m**\u001b[0m\u001b[0;36m2\u001b[0m\u001b[0;34m*\u001b[0m\u001b[0;36m1j\u001b[0m\u001b[0;34m\u001b[0m\u001b[0;34m\u001b[0m\u001b[0m\n\u001b[0m",
      "\u001b[0;31mTypeError\u001b[0m: '>' not supported between instances of 'complex' and 'complex'"
     ]
    }
   ],
   "source": []
  },
  {
   "cell_type": "code",
   "execution_count": null,
   "metadata": {},
   "outputs": [],
   "source": []
  }
 ],
 "metadata": {
  "kernelspec": {
   "display_name": "Python 3",
   "language": "python",
   "name": "python3"
  },
  "language_info": {
   "codemirror_mode": {
    "name": "ipython",
    "version": 3
   },
   "file_extension": ".py",
   "mimetype": "text/x-python",
   "name": "python",
   "nbconvert_exporter": "python",
   "pygments_lexer": "ipython3",
   "version": "3.7.3"
  }
 },
 "nbformat": 4,
 "nbformat_minor": 2
}
