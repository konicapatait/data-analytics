{
 "cells": [
  {
   "cell_type": "markdown",
   "metadata": {},
   "source": [
    "# 3. NumPy Shape Manipulation"
   ]
  },
  {
   "cell_type": "code",
   "execution_count": 1,
   "metadata": {},
   "outputs": [],
   "source": [
    "import numpy as np"
   ]
  },
  {
   "cell_type": "code",
   "execution_count": 3,
   "metadata": {},
   "outputs": [
    {
     "name": "stdout",
     "output_type": "stream",
     "text": [
      "A is : \n",
      "[[3. 8. 9. 3.]\n",
      " [2. 9. 9. 9.]\n",
      " [6. 2. 9. 5.]]\n",
      "Flattened A is : \n",
      "[3. 8. 9. 3. 2. 9. 9. 9. 6. 2. 9. 5.]\n",
      "Reshaped A is : \n",
      "[[3. 8. 9.]\n",
      " [3. 2. 9.]\n",
      " [9. 9. 6.]\n",
      " [2. 9. 5.]]\n",
      "Transposed A is : \n",
      "[[3. 2. 6.]\n",
      " [8. 9. 2.]\n",
      " [9. 9. 9.]\n",
      " [3. 9. 5.]]\n",
      "Resized A is : \n",
      "[[3. 8.]\n",
      " [9. 3.]\n",
      " [2. 9.]\n",
      " [9. 9.]\n",
      " [6. 2.]\n",
      " [9. 5.]]\n",
      "Reshaped A is : \n",
      "[[3. 8. 9. 3.]\n",
      " [2. 9. 9. 9.]\n",
      " [6. 2. 9. 5.]]\n"
     ]
    }
   ],
   "source": [
    "# Shape Manipulation\n",
    "\n",
    "A = np.floor(np.random.random((3,4)) * 10)\n",
    "print(\"A is : \\n\"+str(A))\n",
    "\n",
    "print(\"Flattened A is : \\n\"+str(A.flatten()))\n",
    "\n",
    "print(\"Reshaped A is : \\n\"+str(A.reshape(4,3)))\n",
    "\n",
    "print(\"Transposed A is : \\n\"+str(A.T))\n",
    "\n",
    "A.resize(6,2) # Resize will affect the original array while using reshape create a new reshaped instance of the array.\n",
    "print(\"Resized A is : \\n\"+str(A))  \n",
    "\n",
    "print(\"Reshaped A is : \\n\"+str(A.reshape(-1,4)))  #If a dimension is given as -1 in a reshaping operation, the other dimensions are automatically calculated"
   ]
  },
  {
   "cell_type": "code",
   "execution_count": 28,
   "metadata": {},
   "outputs": [
    {
     "name": "stdout",
     "output_type": "stream",
     "text": [
      "A is : \n",
      "[[3. 8.]\n",
      " [9. 3.]\n",
      " [2. 9.]\n",
      " [9. 9.]\n",
      " [6. 2.]\n",
      " [9. 5.]]\n",
      "B is : \n",
      "[[7. 6.]\n",
      " [2. 4.]\n",
      " [1. 0.]]\n",
      "Vertical stack of A and B is : \n",
      "[[3. 8.]\n",
      " [9. 3.]\n",
      " [2. 9.]\n",
      " [9. 9.]\n",
      " [6. 2.]\n",
      " [9. 5.]\n",
      " [7. 6.]\n",
      " [2. 4.]\n",
      " [1. 0.]]\n",
      "C is : \n",
      "[[9. 1. 0. 5. 4. 1.]\n",
      " [6. 1. 1. 6. 7. 6.]\n",
      " [2. 9. 4. 1. 9. 0.]]\n",
      "Horizontal stack of B and C is : \n",
      "[[7. 6. 9. 1. 0. 5. 4. 1.]\n",
      " [2. 4. 6. 1. 1. 6. 7. 6.]\n",
      " [1. 0. 2. 9. 4. 1. 9. 0.]]\n"
     ]
    },
    {
     "data": {
      "text/plain": [
       "array([[4, 6],\n",
       "       [2, 8]])"
      ]
     },
     "execution_count": 28,
     "metadata": {},
     "output_type": "execute_result"
    }
   ],
   "source": [
    "# Stack arrays\n",
    "\n",
    "B = np.floor(np.random.random((3,2)) * 10)\n",
    "print(\"A is : \\n\"+str(A))\n",
    "print(\"B is : \\n\"+str(B))\n",
    "\n",
    "\n",
    "print(\"Vertical stack of A and B is : \\n\"+str(np.vstack((A,B))))\n",
    "\n",
    "C = np.floor(np.random.random((3,6)) *10)\n",
    "\n",
    "print(\"C is : \\n\"+str(C))\n",
    "\n",
    "print(\"Horizontal stack of B and C is : \\n\"+str(np.hstack((B,C))))\n",
    "\n"
   ]
  },
  {
   "cell_type": "code",
   "execution_count": 33,
   "metadata": {},
   "outputs": [
    {
     "name": "stdout",
     "output_type": "stream",
     "text": [
      "Horizontal stack of B and C is : \n",
      "[[7. 6. 9. 1. 0. 5. 4. 1.]\n",
      " [2. 4. 6. 1. 1. 6. 7. 6.]\n",
      " [1. 0. 2. 9. 4. 1. 9. 0.]]\n",
      "Column Stack of B and C is : \n",
      "[[7. 6. 9. 1. 0. 5. 4. 1.]\n",
      " [2. 4. 6. 1. 1. 6. 7. 6.]\n",
      " [1. 0. 2. 9. 4. 1. 9. 0.]]\n"
     ]
    },
    {
     "data": {
      "text/plain": [
       "array([[6, 8]])"
      ]
     },
     "execution_count": 33,
     "metadata": {},
     "output_type": "execute_result"
    }
   ],
   "source": [
    "# column_stack and row_stack\n",
    "# The function column_stack stacks 1D arrays as columns into a 2D array. It is equivalent to hstack only for 2D arrays:\n",
    "\n",
    "print(\"Horizontal stack of B and C is : \\n\"+str(np.hstack((B,C))))\n",
    "print(\"Column Stack of B and C is : \\n\"+str(np.column_stack((B, C))))\n",
    "\n",
    "D = np.array([4,2])\n",
    "E = np.array([6,8])\n",
    "\n",
    "np.column_stack((D,E))\n",
    "\n",
    "\n",
    "from numpy import newaxis\n",
    "D[:,newaxis]"
   ]
  },
  {
   "cell_type": "code",
   "execution_count": 46,
   "metadata": {},
   "outputs": [
    {
     "name": "stdout",
     "output_type": "stream",
     "text": [
      "F is : \n",
      "[[69. 45. 61. 88. 60. 33. 46. 10. 84. 14. 44. 97.]\n",
      " [85. 79. 84. 62. 48.  7.  3. 14. 21. 60. 51. 18.]]\n",
      "Horizontally Splitted in 3 : \n",
      "[array([[69., 45., 61., 88.],\n",
      "       [85., 79., 84., 62.]]), array([[60., 33., 46., 10.],\n",
      "       [48.,  7.,  3., 14.]]), array([[84., 14., 44., 97.],\n",
      "       [21., 60., 51., 18.]])]\n",
      "Horizontally Splitted after 3rd, 5th and 9th column : \n",
      "[array([[69., 45., 61.],\n",
      "       [85., 79., 84.]]), array([[88., 60.],\n",
      "       [62., 48.]]), array([[33., 46., 10., 84.],\n",
      "       [ 7.,  3., 14., 21.]]), array([[14., 44., 97.],\n",
      "       [60., 51., 18.]])]\n"
     ]
    }
   ],
   "source": [
    "# Split Arrays\n",
    "\n",
    "F = np.floor(np.random.random((2,12)) * 100)\n",
    "print(\"F is : \\n\"+str(F))\n",
    "\n",
    "print(\"Horizontally Splitted in 3 : \\n\"+str(np.hsplit(F,3)))\n",
    "\n",
    "\n",
    "print(\"Horizontally Splitted after 3rd, 5th and 9th column : \\n\"+str(np.hsplit(F,(3,5,9))))\n"
   ]
  },
  {
   "cell_type": "code",
   "execution_count": 69,
   "metadata": {},
   "outputs": [
    {
     "name": "stdout",
     "output_type": "stream",
     "text": [
      "Id of G:  4514921888\n",
      "Id of H:  4514921888\n",
      "Is G is same as H? True\n",
      "Shape of G is (3, 4)\n",
      "Id of G:  4514921888\n",
      "Id of H:  4514921168\n",
      "Is G is same as H? False\n",
      "Id of G:  4514921888\n",
      "Id of I:  4514920608\n",
      "Is G is same as I? False\n",
      "Id of G:  [[ 0  1  2  3]\n",
      " [ 4  5  6  7]\n",
      " [ 8  9 10 11]]\n",
      "Id of I:  [[ 0  1  2  3]\n",
      " [ 4  5  6  7]\n",
      " [ 8  9 10 12]]\n"
     ]
    }
   ],
   "source": [
    "# Copy and Views\n",
    "\n",
    "G = np.arange(12)\n",
    "H = G   # Does not create a copy\n",
    "\n",
    "print(\"Id of G:  \"+ str(id(G)))\n",
    "print(\"Id of H:  \"+ str(id(H)))\n",
    "print(\"Is G is same as H? \"+ str(G is H))\n",
    "\n",
    "H.shape = 3,4\n",
    "print(\"Shape of G is \"+ str(G.shape))\n",
    "\n",
    "H = G.view()     # Create a shallow copy\n",
    "print(\"Id of G:  \"+ str(id(G)))\n",
    "print(\"Id of H:  \"+ str(id(H)))\n",
    "print(\"Is G is same as H? \"+ str(G is H))\n",
    "\n",
    "I = G.copy()     # A new array with new data in it\n",
    "\n",
    "print(\"Id of G:  \"+ str(id(G)))\n",
    "print(\"Id of I:  \"+ str(id(I)))\n",
    "print(\"Is G is same as I? \"+ str(G is I))\n",
    "\n",
    "I[2,3] = 12\n",
    "\n",
    "print(\"Id of G:  \"+ str(G))\n",
    "print(\"Id of I:  \"+ str(I))\n"
   ]
  },
  {
   "cell_type": "code",
   "execution_count": null,
   "metadata": {},
   "outputs": [],
   "source": []
  }
 ],
 "metadata": {
  "kernelspec": {
   "display_name": "Python 3",
   "language": "python",
   "name": "python3"
  },
  "language_info": {
   "codemirror_mode": {
    "name": "ipython",
    "version": 3
   },
   "file_extension": ".py",
   "mimetype": "text/x-python",
   "name": "python",
   "nbconvert_exporter": "python",
   "pygments_lexer": "ipython3",
   "version": "3.7.3"
  }
 },
 "nbformat": 4,
 "nbformat_minor": 2
}
