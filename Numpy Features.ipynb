{
 "cells": [
  {
   "cell_type": "markdown",
   "metadata": {},
   "source": [
    "# NumPy\n",
    "\n",
    "## Features\n",
    " * **Vectorization** <br />\n",
    "Vectorization is used to speed up the Python code without using loop. Using such a function can help in minimizing the running time of code efficiently. \n",
    "Classic methods are: \n",
    "<ol>\n",
    "    <li>Dot/Inner Products</li>\n",
    "    Dot product is an algebraic operation in which two equal length vectors are being multiplied such that it produces a single number. Dot Product often called as inner product.\n",
    "    <li>Outer Products</li>\n",
    "    The tensor product of two coordinate vectors is termed as Outer product. Let’s consider two vectors a and b with dimension n x 1 and m x 1 then the outer product of the vector results in a rectangular matrix of n x m.\n",
    "    <li>Element wise Product</li>\n",
    "    Element-wise multiplication of two matrices is the algebraic operation in which each element of first matrix is multiplied by its corresponding element in the later matrix. Dimension of the matrices should be same.\n",
    "</ol>\n",
    " * **Broadcasting**"
   ]
  },
  {
   "cell_type": "code",
   "execution_count": 11,
   "metadata": {},
   "outputs": [
    {
     "name": "stdout",
     "output_type": "stream",
     "text": [
      "dot_product = 833323333350000.0\n",
      "Computation time = 61.20999999996002ms\n",
      "\n",
      "n_dot_product = 833323333350000\n",
      "Computation time = 1.1859999999614956ms\n"
     ]
    }
   ],
   "source": [
    "# Inner Product\n",
    "import time \n",
    "import numpy \n",
    "import array \n",
    "  \n",
    "# 8 bytes size int \n",
    "a = array.array('q') \n",
    "for i in range(100000): \n",
    "    a.append(i); \n",
    "  \n",
    "b = array.array('q') \n",
    "for i in range(100000, 200000): \n",
    "    b.append(i) \n",
    "\n",
    "# classic dot product of vectors implementation  \n",
    "tic = time.process_time() \n",
    "dot = 0.0; \n",
    "  \n",
    "for i in range(len(a)): \n",
    "      dot += a[i] * b[i] \n",
    "  \n",
    "toc = time.process_time() \n",
    "  \n",
    "print(\"dot_product = \"+ str(dot)); \n",
    "print(\"Computation time = \" + str(1000*(toc - tic )) + \"ms\") \n",
    "   \n",
    "  \n",
    "n_tic = time.process_time() \n",
    "n_dot_product = numpy.dot(a, b) \n",
    "n_toc = time.process_time() \n",
    "  \n",
    "print(\"\\nn_dot_product = \"+str(n_dot_product)) \n",
    "print(\"Computation time = \"+str(1000*(n_toc - n_tic ))+\"ms\") "
   ]
  },
  {
   "cell_type": "code",
   "execution_count": 12,
   "metadata": {},
   "outputs": [
    {
     "name": "stdout",
     "output_type": "stream",
     "text": [
      "outer_product = [[    0.     0.     0. ...     0.     0.     0.]\n",
      " [  200.   201.   202. ...   397.   398.   399.]\n",
      " [  400.   402.   404. ...   794.   796.   798.]\n",
      " ...\n",
      " [39400. 39597. 39794. ... 78209. 78406. 78603.]\n",
      " [39600. 39798. 39996. ... 78606. 78804. 79002.]\n",
      " [39800. 39999. 40198. ... 79003. 79202. 79401.]]\n",
      "Computation time = 47.60999999996329ms\n",
      "outer_product = [[    0     0     0 ...     0     0     0]\n",
      " [  200   201   202 ...   397   398   399]\n",
      " [  400   402   404 ...   794   796   798]\n",
      " ...\n",
      " [39400 39597 39794 ... 78209 78406 78603]\n",
      " [39600 39798 39996 ... 78606 78804 79002]\n",
      " [39800 39999 40198 ... 79003 79202 79401]]\n",
      "\n",
      "Computation time = 0.3280000000813743ms\n"
     ]
    }
   ],
   "source": [
    "# Outer product \n",
    "import time \n",
    "import numpy \n",
    "import array \n",
    "  \n",
    "a = array.array('i') \n",
    "for i in range(200): \n",
    "    a.append(i); \n",
    "  \n",
    "b = array.array('i') \n",
    "for i in range(200, 400): \n",
    "    b.append(i) \n",
    "  \n",
    "# classic outer product of vectors implementation  \n",
    "tic = time.process_time() \n",
    "outer_product = numpy.zeros((200, 200)) \n",
    "  \n",
    "for i in range(len(a)): \n",
    "   for j in range(len(b)): \n",
    "      outer_product[i][j]= a[i]*b[j] \n",
    "  \n",
    "toc = time.process_time() \n",
    "  \n",
    "print(\"outer_product = \"+ str(outer_product)); \n",
    "print(\"Computation time = \"+str(1000*(toc - tic ))+\"ms\") \n",
    "   \n",
    "n_tic = time.process_time() \n",
    "outer_product = numpy.outer(a, b) \n",
    "n_toc = time.process_time() \n",
    "  \n",
    "print(\"outer_product = \"+str(outer_product)); \n",
    "print(\"\\nComputation time = \"+str(1000*(n_toc - n_tic ))+\"ms\") \n",
    "  "
   ]
  },
  {
   "cell_type": "code",
   "execution_count": 13,
   "metadata": {},
   "outputs": [
    {
     "name": "stdout",
     "output_type": "stream",
     "text": [
      "Element wise Product = [0.00000000e+00 5.00010000e+04 1.00004000e+05 ... 4.99955001e+09\n",
      " 4.99970000e+09 4.99985000e+09]\n",
      "\n",
      "Computation time = 38.85400000001482ms\n",
      "Element wise Product = [        0     50001    100004 ... 704582713 704732708 704882705]\n",
      "\n",
      "Computation time = 0.8339999999407155ms\n"
     ]
    }
   ],
   "source": [
    "# Element-wise multiplication \n",
    "import time \n",
    "import numpy \n",
    "import array \n",
    "  \n",
    "a = array.array('i') \n",
    "for i in range(50000): \n",
    "    a.append(i); \n",
    "  \n",
    "b = array.array('i') \n",
    "for i in range(50000, 100000): \n",
    "    b.append(i) \n",
    "  \n",
    "# classic element wise product of vectors implemetation  \n",
    "vector = numpy.zeros((50000)) \n",
    "  \n",
    "tic = time.process_time() \n",
    "  \n",
    "for i in range(len(a)): \n",
    "      vector[i]= a[i]*b[i] \n",
    "  \n",
    "toc = time.process_time() \n",
    "  \n",
    "print(\"Element wise Product = \"+ str(vector)); \n",
    "print(\"\\nComputation time = \"+str(1000*(toc - tic ))+\"ms\") \n",
    "   \n",
    "  \n",
    "n_tic = time.process_time() \n",
    "vector = numpy.multiply(a, b) \n",
    "n_toc = time.process_time() \n",
    "  \n",
    "print(\"Element wise Product = \"+str(vector)); \n",
    "print(\"\\nComputation time = \"+str(1000*(n_toc - n_tic ))+\"ms\") "
   ]
  },
  {
   "cell_type": "code",
   "execution_count": null,
   "metadata": {},
   "outputs": [],
   "source": []
  }
 ],
 "metadata": {
  "kernelspec": {
   "display_name": "Python 3",
   "language": "python",
   "name": "python3"
  },
  "language_info": {
   "codemirror_mode": {
    "name": "ipython",
    "version": 3
   },
   "file_extension": ".py",
   "mimetype": "text/x-python",
   "name": "python",
   "nbconvert_exporter": "python",
   "pygments_lexer": "ipython3",
   "version": "3.7.3"
  }
 },
 "nbformat": 4,
 "nbformat_minor": 2
}
