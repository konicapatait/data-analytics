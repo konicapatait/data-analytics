{
 "cells": [
  {
   "cell_type": "markdown",
   "metadata": {},
   "source": [
    "# Problem -2\n",
    "\n",
    "Load data from a text file, with missing values handled as specified.\n",
    "\n",
    " * Use of GenFromTxt in Numpy\n",
    " ** Delimited with Fixed length Column\n",
    " ** Delimited with mixed Dtype\n",
    " ** Delimited with Fixed length Column and datatypes\n",
    " \n",
    " * Read the GSN file with all the weather details and parse the file\n",
    " * Extract details"
   ]
  },
  {
   "cell_type": "code",
   "execution_count": 1,
   "metadata": {},
   "outputs": [],
   "source": [
    "import io \n",
    "import numpy as np"
   ]
  },
  {
   "cell_type": "code",
   "execution_count": 22,
   "metadata": {},
   "outputs": [
    {
     "name": "stdout",
     "output_type": "stream",
     "text": [
      "(b'Konica', b'Patait', 3, 23, 1988)\n"
     ]
    }
   ],
   "source": [
    "s = io.StringIO(\"KonicaPatait03231988\")\n",
    "data = np.genfromtxt(s, \n",
    "                   dtype = 'S6,S6,i8,i8,i8',\n",
    "                   delimiter=[6,6,2,2,4],\n",
    "                   names=['FirstName','LastName',\"MonthInDOB\",\"DateINDOB\",\"YearINDOB\"])\n",
    "print(data)"
   ]
  },
  {
   "cell_type": "code",
   "execution_count": 29,
   "metadata": {},
   "outputs": [
    {
     "name": "stdout",
     "output_type": "stream",
     "text": [
      "(1988, 23, 3, b'Konica', b'Patait')\n"
     ]
    }
   ],
   "source": [
    "s = io.StringIO('1988,23,03,Konica,Patait')\n",
    "data = np.genfromtxt(s,\n",
    "                     dtype = [('YearINDOB',\"i8\"), ('DateINDOB',\"i8\"), ('MonthInDOB',\"i8\"), ('FirstName',\"S6\"), ('LastName',\"S6\")],\n",
    "                    delimiter=\",\")\n",
    "print(data)"
   ]
  },
  {
   "cell_type": "code",
   "execution_count": 30,
   "metadata": {},
   "outputs": [
    {
     "data": {
      "text/plain": [
       "array((1, 12.3, b'abcde'),\n",
       "      dtype=[('intvar', '<i8'), ('floatvar', '<f8'), ('stringvar', 'S5')])"
      ]
     },
     "execution_count": 30,
     "metadata": {},
     "output_type": "execute_result"
    }
   ],
   "source": [
    "s = io.StringIO(u\"112.3abcde\")\n",
    "data = np.genfromtxt(s,dtype=\"i8,f8,S5\", names=['intvar','floatvar','stringvar'], delimiter=[1,4,5])\n",
    "data"
   ]
  },
  {
   "cell_type": "code",
   "execution_count": 32,
   "metadata": {},
   "outputs": [
    {
     "data": {
      "text/plain": [
       "['USW00014922193804TMAX-9999   -9999   -9999   -9999   -9999   -9999   -9999   -9999     106  0  189  0  172  0  217  0  256  0  194  0  117  0  133  0  228  0  217  0  172  0  144  0   89  0  144  0   94  0  111  0  156  0  267  0  256  0  156  0  144  0  222  0-9999   \\n',\n",
       " 'USW00014922193804TMIN-9999   -9999   -9999   -9999   -9999   -9999   -9999   -9999     -17  0   11  0   61  0   28  0   78  0   78  0   72  0  106  0  106  0   72  0   11  0   -6  0   17  0   -6  0   39  0   56  0   44  0  117  0  156  0   39  0   17  0   44  0-9999   \\n',\n",
       " 'USW00014922193804PRCP-9999   -9999   -9999   -9999   -9999   -9999   -9999   -9999       0  0    0  0    0  0    0  0    0  0  267  0   64  0  193  0   58  0    0  0    0T 0    3  0   25  0    0  0  119  0   10  0    0T 0    0  0   36  0   56  0    0  0    0  0-9999   \\n',\n",
       " 'USW00014922193804SNOW-9999   -9999   -9999   -9999   -9999   -9999   -9999   -9999       0  0    0  0    0  0    0  0    0  0    0  0    0  0    0  0    0  0    0  0    0  0    0  0    0  0    0  0    0  0    0  0    0  0    0  0    0  0    0  0    0  0    0  0-9999   \\n',\n",
       " 'USW00014922193804SNWD-9999   -9999   -9999   -9999   -9999   -9999   -9999   -9999       0  0    0  0    0  0    0  0    0  0    0  0    0  0    0  0    0  0    0  0    0  0    0  0    0  0    0  0    0  0    0  0    0  0    0  0    0  0    0  0    0  0    0  0-9999   \\n',\n",
       " 'USW00014922193805TMAX  278  0  294  0  278  0  194  0  128  0   72  0   61  0   56  0  167  0  178  0  150  0  183  0  156  0  178  0  189  0  217  0  133  0  139  0  117  0  172  0  206  0  222  0  150  0  144  0  194  0  239  0  189  0  244  0  278  0  294  0  244  0\\n',\n",
       " 'USW00014922193805TMIN  144  0  167  0  144  0  111  0   22  0   22  0   17  0   17  0   50  0   61  0   28  0   28  0   72  0   72  0   78  0   61  0  111  0  100  0   89  0   78  0  100  0   89  0   83  0   44  0   83  0  117  0  133  0  150  0  144  0  172  0  178  0\\n',\n",
       " 'USW00014922193805PRCP    0T 0    3  0   18  0  221  0  246  0    3  0   99  0  307  0   15  0    5  0    0  0    0  0   56  0   10  0    3  0    3  0  297  0  254  0   79  0    0T 0    0  0    0T 0    0  0    3  0    0  0   33  0   76  0    0T 0    0T 0    0  0   41  0\\n',\n",
       " 'USW00014922193805SNOW    0  0    0  0    0  0    0  0    0  0    0  0    0T 0    0  0    0  0    0  0    0  0    0  0    0  0    0  0    0  0    0  0    0  0    0  0    0  0    0  0    0  0    0  0    0  0    0  0    0  0    0  0    0  0    0  0    0  0    0  0    0  0\\n',\n",
       " 'USW00014922193805SNWD    0  0    0  0    0  0    0  0    0  0    0  0    0  0    0  0    0  0    0  0    0  0    0  0    0  0    0  0    0  0    0  0    0  0    0  0    0  0    0  0    0  0    0  0    0  0    0  0    0  0    0  0    0  0    0  0    0  0    0  0    0  0\\n']"
      ]
     },
     "execution_count": 32,
     "metadata": {},
     "output_type": "execute_result"
    }
   ],
   "source": [
    "open('USW00014922.dly','r').readlines()[:10]"
   ]
  },
  {
   "cell_type": "code",
   "execution_count": 35,
   "metadata": {},
   "outputs": [
    {
     "data": {
      "text/plain": [
       "['------------------------------\\n',\n",
       " 'Variable   Columns   Type\\n',\n",
       " '------------------------------\\n',\n",
       " 'ID            1-11   Character\\n',\n",
       " 'YEAR         12-15   Integer\\n',\n",
       " 'MONTH        16-17   Integer\\n',\n",
       " 'ELEMENT      18-21   Character\\n',\n",
       " 'VALUE1       22-26   Integer\\n',\n",
       " 'MFLAG1       27-27   Character\\n',\n",
       " 'QFLAG1       28-28   Character\\n',\n",
       " 'SFLAG1       29-29   Character\\n',\n",
       " 'VALUE2       30-34   Integer\\n',\n",
       " 'MFLAG2       35-35   Character\\n',\n",
       " 'QFLAG2       36-36   Character\\n',\n",
       " 'SFLAG2       37-37   Character\\n',\n",
       " '  .           .          .\\n',\n",
       " '  .           .          .\\n',\n",
       " '  .           .          .\\n',\n",
       " 'VALUE31    262-266   Integer\\n',\n",
       " 'MFLAG31    267-267   Character\\n',\n",
       " 'QFLAG31    268-268   Character\\n',\n",
       " 'SFLAG31    269-269   Character\\n',\n",
       " '------------------------------\\n']"
      ]
     },
     "execution_count": 35,
     "metadata": {},
     "output_type": "execute_result"
    }
   ],
   "source": [
    "open('readme.txt','r').readlines()[98:121]"
   ]
  },
  {
   "cell_type": "code",
   "execution_count": 57,
   "metadata": {},
   "outputs": [],
   "source": [
    "def parsefile(file):\n",
    "    return np.genfromtxt(file,\n",
    "                 delimiter = dly_delimiter,\n",
    "                 usecols = dly_columns,\n",
    "                 dtype = dly_dtype,\n",
    "                 names = dly_names)\n",
    "\n",
    "dly_delimiter = [11,4,2,4] + 31 * [5,1,1,1]\n",
    "dly_columns = [1,2,3] + 31 * [4*i for i in range(1,32)]\n",
    "dly_dtype = [np.int32, np.int32, (np.str_,4)] + [np.int32]*31\n",
    "dly_names = ['year', 'month', 'obs'] + [str(day) for day in range (1,32)]"
   ]
  },
  {
   "cell_type": "code",
   "execution_count": 60,
   "metadata": {},
   "outputs": [
    {
     "name": "stdout",
     "output_type": "stream",
     "text": [
      "[(1938, 4, 'TMAX', -9999, -9999, -9999, -9999, -9999, -9999, -9999, -9999, 106,   189,   172,   217,   256,   194,   117,   133,   228,   217,   172,   144,    89,   144,  94,   111,   156,   267,   256,   156,   144,   222, -9999)\n",
      " (1938, 4, 'TMIN', -9999, -9999, -9999, -9999, -9999, -9999, -9999, -9999, -17,    11,    61,    28,    78,    78,    72,   106,   106,    72,    11,    -6,    17,    -6,  39,    56,    44,   117,   156,    39,    17,    44, -9999)\n",
      " (1938, 4, 'PRCP', -9999, -9999, -9999, -9999, -9999, -9999, -9999, -9999,   0,     0,     0,     0,     0,   267,    64,   193,    58,     0,     0,     3,    25,     0, 119,    10,     0,     0,    36,    56,     0,     0, -9999)\n",
      " ...\n",
      " (2015, 9, 'WT01',     1,     1,     1,     1,     1,     1, -9999,     1,   1,     1, -9999, -9999, -9999, -9999, -9999, -9999,     1, -9999, -9999, -9999, -9999,     1,   1,     1,     1,     1, -9999, -9999, -9999, -9999, -9999)\n",
      " (2015, 9, 'WT03', -9999,     1, -9999, -9999, -9999,     1, -9999,     1,   1, -9999, -9999, -9999, -9999,     1, -9999,     1,     1, -9999, -9999,     1, -9999, -9999,   1, -9999, -9999, -9999, -9999, -9999, -9999, -9999, -9999)\n",
      " (2015, 9, 'WT08',     1, -9999,     1, -9999,     1, -9999, -9999, -9999,   1, -9999, -9999, -9999, -9999, -9999, -9999, -9999, -9999, -9999, -9999, -9999, -9999,     1,   1,     1,     1,     1, -9999, -9999, -9999, -9999, -9999)]\n"
     ]
    }
   ],
   "source": [
    "data = parsefile('USW00014922.dly')\n",
    "print(data)"
   ]
  },
  {
   "cell_type": "code",
   "execution_count": 96,
   "metadata": {},
   "outputs": [
    {
     "data": {
      "text/plain": [
       "array([('1938-04-01', -9999.), ('1938-04-02', -9999.),\n",
       "       ('1938-04-03', -9999.), ('1938-04-04', -9999.),\n",
       "       ('1938-04-05', -9999.), ('1938-04-06', -9999.),\n",
       "       ('1938-04-07', -9999.), ('1938-04-08', -9999.),\n",
       "       ('1938-04-09',   106.), ('1938-04-10',   189.),\n",
       "       ('1938-04-11',   172.), ('1938-04-12',   217.),\n",
       "       ('1938-04-13',   256.), ('1938-04-14',   194.),\n",
       "       ('1938-04-15',   117.), ('1938-04-16',   133.),\n",
       "       ('1938-04-17',   228.), ('1938-04-18',   217.),\n",
       "       ('1938-04-19',   172.), ('1938-04-20',   144.),\n",
       "       ('1938-04-21',    89.), ('1938-04-22',   144.),\n",
       "       ('1938-04-23',    94.), ('1938-04-24',   111.),\n",
       "       ('1938-04-25',   156.), ('1938-04-26',   267.),\n",
       "       ('1938-04-27',   256.), ('1938-04-28',   156.),\n",
       "       ('1938-04-29',   144.), ('1938-04-30',   222.)],\n",
       "      dtype=[('date', '<M8[D]'), ('value', '<f8')])"
      ]
     },
     "execution_count": 96,
     "metadata": {},
     "output_type": "execute_result"
    }
   ],
   "source": [
    "def transformdata(record):\n",
    "    startDate = '{}-{:02}'.format(record[0],record[1])\n",
    "    startDateAsDate = np.datetime64(startDate)\n",
    "    endDateAsDate = startDateAsDate + np.timedelta64(1,'M')\n",
    "    allDates = np.arange(startDateAsDate, endDateAsDate, np.timedelta64(1,'D'))\n",
    "    rows = [(date, record[str(i+1)]) for i, date in enumerate(allDates)]\n",
    "    return np.array(rows, dtype=[('date','M8[D]'), ('value','d')])\n",
    "    \n",
    "transformdata(data[0])"
   ]
  },
  {
   "cell_type": "code",
   "execution_count": null,
   "metadata": {},
   "outputs": [],
   "source": []
  },
  {
   "cell_type": "code",
   "execution_count": null,
   "metadata": {},
   "outputs": [],
   "source": []
  }
 ],
 "metadata": {
  "kernelspec": {
   "display_name": "Python 3",
   "language": "python",
   "name": "python3"
  },
  "language_info": {
   "codemirror_mode": {
    "name": "ipython",
    "version": 3
   },
   "file_extension": ".py",
   "mimetype": "text/x-python",
   "name": "python",
   "nbconvert_exporter": "python",
   "pygments_lexer": "ipython3",
   "version": "3.7.3"
  }
 },
 "nbformat": 4,
 "nbformat_minor": 2
}
