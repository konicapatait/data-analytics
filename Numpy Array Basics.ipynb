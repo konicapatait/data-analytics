{
 "cells": [
  {
   "cell_type": "markdown",
   "metadata": {},
   "source": [
    "# Numpy Array\n",
    "\n",
    "## 1.) Array Creation \n",
    "\n",
    "## 2.) Array Basics\n",
    "\n",
    "## 3.) Basic Operations\n",
    "\n",
    "## 4.) Indexing, Slicing and iterating\n"
   ]
  },
  {
   "cell_type": "code",
   "execution_count": 75,
   "metadata": {},
   "outputs": [
    {
     "name": "stdout",
     "output_type": "stream",
     "text": [
      "a is : [10 20 30]\n",
      "b is : [[15.1 20.1 30.9]\n",
      " [12.4 15.6 45.3]]\n",
      "x is : \n",
      "[[0 1]\n",
      " [2 3]\n",
      " [4 5]\n",
      " [6 7]\n",
      " [8 9]]\n",
      "y is : \n",
      "[[0. 0.]\n",
      " [0. 0.]\n",
      " [0. 0.]\n",
      " [0. 0.]\n",
      " [0. 0.]]\n",
      "z is : [[1 1]\n",
      " [1 1]\n",
      " [1 1]\n",
      " [1 1]\n",
      " [1 1]]\n",
      "p is : \n",
      "[[15.1 20.1 30.9]\n",
      " [12.4 15.6 45.3]]\n",
      "q is : \n",
      "[5.  5.3 5.6 5.9 6.2 6.5 6.8 7.1 7.4 7.7 8.  8.3 8.6 8.9 9.2 9.5 9.8]\n",
      "r is : \n",
      "[0.   0.25 0.5  0.75 1.   1.25 1.5  1.75 2.  ]\n"
     ]
    }
   ],
   "source": [
    "# Array creation\n",
    "\n",
    "import numpy as np\n",
    "\n",
    "a = np.array([10,20,30])\n",
    "print ('a is : '+ str(a))\n",
    "\n",
    "b = np.array([(15.1, 20.1, 30.9),(12.4,15.6, 45.3)])\n",
    "print('b is : '+str(b))\n",
    "\n",
    "x = np.arange(10).reshape(5,2)\n",
    "print('x is : \\n'+ str(x))\n",
    "\n",
    "y = np.zeros(10).reshape(5,2)\n",
    "\n",
    "print('y is : \\n'+ str(y))\n",
    "\n",
    "z = np.ones(10, dtype=np.int64).reshape(5,2)\n",
    "print('z is : '+ str(z))\n",
    "\n",
    "p = np.empty((2,3))\n",
    "print('p is : \\n'+ str(p))\n",
    "\n",
    "# When arange is used with floating point arguments, \n",
    "# it is generally not possible to predict the number of elements obtained, \n",
    "# due to the finite floating point precision\n",
    "q = np.arange(5,10,0.3)\n",
    "print('q is : \\n'+ str(q))\n",
    "\n",
    "# 9 numbers from 0 to 2\n",
    "r = np.linspace(0,2,9)\n",
    "print('r is : \\n'+ str(r))\n"
   ]
  },
  {
   "cell_type": "code",
   "execution_count": 72,
   "metadata": {},
   "outputs": [
    {
     "name": "stdout",
     "output_type": "stream",
     "text": [
      "Array is : \n",
      "[[[ 0  1]\n",
      "  [ 2  3]]\n",
      "\n",
      " [[ 4  5]\n",
      "  [ 6  7]]\n",
      "\n",
      " [[ 8  9]\n",
      "  [10 11]]\n",
      "\n",
      " [[12 13]\n",
      "  [14 15]]\n",
      "\n",
      " [[16 17]\n",
      "  [18 19]]]\n",
      "Shape is : (5, 2, 2)\n",
      "No. of dimentions are : 3\n",
      "Datatype is : int64\n",
      "Size is : 20\n",
      "Type is : <class 'numpy.ndarray'>\n"
     ]
    }
   ],
   "source": [
    "# Array Basics\n",
    "\n",
    "c = np.arange(20).reshape(5,2,2)\n",
    "print(\"Array is : \\n\"+str(c))\n",
    "\n",
    "print(\"Shape is : \"+str(c.shape))\n",
    "print(\"No. of dimentions are : \"+ str(c.ndim))\n",
    "print(\"Datatype is : \"+ str(c.dtype.name))\n",
    "print(\"Size is : \"+ str(c.size))\n",
    "print(\"Type is : \"+ str(type(c)))\n"
   ]
  },
  {
   "cell_type": "code",
   "execution_count": 71,
   "metadata": {},
   "outputs": [
    {
     "name": "stdout",
     "output_type": "stream",
     "text": [
      "Element wise product: \n",
      "[[3 4]\n",
      " [8 6]]\n",
      "matrix product: \n",
      "[[11  6]\n",
      " [18 10]]\n",
      "Dot product: \n",
      "[[11  6]\n",
      " [18 10]]\n"
     ]
    }
   ],
   "source": [
    "# Basic Operations\n",
    "\n",
    "A = np.array([(1,2),(2,3)])\n",
    "B = np.array([(3,2),(4,2)])\n",
    "\n",
    "print(\"Element wise product: \\n\"+ str(A*B) )  # Element Wise Product\n",
    "\n",
    "\n",
    "print(\"matrix product: \\n\"+ str(A @ B) )     # Matrix Product\n",
    "\n",
    "\n",
    "print(\"Dot product: \\n\"+ str(A.dot(B) ) ) # dot Product\n",
    "\n"
   ]
  },
  {
   "cell_type": "code",
   "execution_count": 85,
   "metadata": {},
   "outputs": [
    {
     "name": "stdout",
     "output_type": "stream",
     "text": [
      "C is : \n",
      "[[1 1 1]\n",
      " [1 1 1]]\n",
      "D is : \n",
      "[[0.82683235 0.95214627 0.03678214]\n",
      " [0.51667226 0.62096994 0.75336647]]\n",
      "D is : \n",
      "[[0.82683235 0.95214627 0.03678214]\n",
      " [0.51667226 0.62096994 0.75336647]]\n"
     ]
    }
   ],
   "source": [
    "C = np.ones((2,3), dtype = np.int64)\n",
    "print(\"C is : \\n\"+ str(C ))\n",
    "\n",
    "D = np.random.random((2,3))\n",
    "print(\"D is : \\n\"+ str(D ))\n",
    "\n",
    "D *= C\n",
    "\n",
    "print(\"Updated D is : \\n\"+ str(D ))\n"
   ]
  },
  {
   "cell_type": "code",
   "execution_count": 99,
   "metadata": {},
   "outputs": [
    {
     "name": "stdout",
     "output_type": "stream",
     "text": [
      "E is : \n",
      "[[0.09949017 0.05472417 0.46358252]\n",
      " [0.91586275 0.430489   0.09680453]]\n",
      "SUM is  : 2.060953143766248\n",
      "MAX is  : 0.9158627501785234\n",
      "MIN is  : 0.054724174098769174\n",
      "F is : \n",
      "[[ 0  1  2  3]\n",
      " [ 4  5  6  7]\n",
      " [ 8  9 10 11]]\n",
      "SUM of axis 0 is : \n",
      "[12 15 18 21]\n",
      "SUM of axis 1 is : \n",
      "[ 6 22 38]\n",
      "CUMSUM of axis 1 is : \n",
      "[[ 0  1  3  6]\n",
      " [ 4  9 15 22]\n",
      " [ 8 17 27 38]]\n"
     ]
    }
   ],
   "source": [
    "# Unary Operations\n",
    "\n",
    "E = np.random.random((2,3))\n",
    "print(\"E is : \\n\"+ str( E ))\n",
    "\n",
    "print(\"SUM is  : \"+ str( E.sum() ))\n",
    "\n",
    "print(\"MAX is  : \"+ str( E.max() ))\n",
    "\n",
    "print(\"MIN is  : \"+ str( E.min() ))\n",
    "\n",
    "F = np.arange(12).reshape(3,4)\n",
    "\n",
    "print(\"F is : \\n\"+ str( F ))\n",
    "\n",
    "print(\"SUM of axis 0 is : \\n\"+ str( F.sum(axis=0) ))\n",
    "\n",
    "print(\"SUM of axis 1 is : \\n\"+ str( F.sum(axis=1) ))\n",
    "\n",
    "\n",
    "print(\"CUMSUM of axis 1 is : \\n\"+ str( F.cumsum(axis=1) ))"
   ]
  },
  {
   "cell_type": "code",
   "execution_count": 104,
   "metadata": {},
   "outputs": [
    {
     "name": "stdout",
     "output_type": "stream",
     "text": [
      "G is : \n",
      "[0 1 2 3]\n",
      "exponential is : \n",
      "[ 1.          2.71828183  7.3890561  20.08553692]\n",
      "Square Root is : \n",
      "[0.         1.         1.41421356 1.73205081]\n",
      "Square Root is : \n",
      "1.5\n"
     ]
    }
   ],
   "source": [
    "# Universal Functions (ufunc)\n",
    "\n",
    "G = np.arange(4)\n",
    "\n",
    "print(\"G is : \\n\"+str(G))\n",
    "\n",
    "print(\"exponential is : \\n\"+str(np.exp(G))) # with base e\n",
    "\n",
    "print(\"Square Root is : \\n\"+str(np.sqrt(G))) \n",
    "\n",
    "print(\"Mean is : \\n\"+str(np.mean(G))) \n"
   ]
  },
  {
   "cell_type": "code",
   "execution_count": 203,
   "metadata": {},
   "outputs": [
    {
     "name": "stdout",
     "output_type": "stream",
     "text": [
      "H is : \n",
      "[[  1   4   9  16]\n",
      " [ 25  36  49  64]\n",
      " [ 81 100 121 144]]\n",
      "Row 2 and 3 is : \n",
      "[[ 25  36  49  64]\n",
      " [ 81 100 121 144]]\n",
      "Column 2 and 3 is : \n",
      "[[  4   9]\n",
      " [ 36  49]\n",
      " [100 121]]\n",
      "Row and column 2 and 3 is : \n",
      "[[ 36  49]\n",
      " [100 121]]\n",
      "Last element is : \n",
      "144\n",
      "I is : \n",
      "[[-1000 -1000 -1000 -1000]\n",
      " [    5     6     7     8]\n",
      " [-1000 -1000 -1000 -1000]\n",
      " [   13    14    15    16]\n",
      " [-1000 -1000 -1000 -1000]\n",
      " [   21    22    23    24]]\n"
     ]
    }
   ],
   "source": [
    "# Indexing, Slicing and iterating\n",
    "\n",
    "H = np.arange(1,13,1).reshape(3,4)**2\n",
    "print(\"H is : \\n\"+str(H))\n",
    "\n",
    "print(\"Row 2 and 3 is : \\n\"+str(H[1:3])) # Since it uses indexes \n",
    "\n",
    "print(\"Column 2 and 3 is : \\n\"+str(H[:, 1:3 ])) \n",
    "\n",
    "print(\"Row and column 2 and 3 is : \\n\"+str(H[1:3, 1:3 ])) \n",
    "\n",
    "print(\"Last element is : \\n\"+str(H[-1, -1 ])) \n",
    "\n",
    "\n",
    "I = np.arange(1,25,1).reshape(6,4)\n",
    "\n",
    "I[:7:2] = -1000  # equivalent to a[0:7:2] = -1000; from start to position 7, exclusive, set every 2nd element to -1000\n",
    "print(\"I is : \\n\"+str(I))\n"
   ]
  },
  {
   "cell_type": "code",
   "execution_count": 204,
   "metadata": {},
   "outputs": [
    {
     "name": "stdout",
     "output_type": "stream",
     "text": [
      "Shape is : \n",
      "(2, 2, 3)\n",
      "Second Row is : \n",
      "[[100 101 102]\n",
      " [110 112 113]]\n",
      "Second Column is : \n",
      "[[  1  12]\n",
      " [101 112]]\n"
     ]
    }
   ],
   "source": [
    "# Multidimentional Array\n",
    "\n",
    "J = np.array( [[[  0,  1,  2],               # a 3D array (two stacked 2D arrays)\n",
    "               [ 10, 12, 13]],\n",
    "               [[100,101,102],\n",
    "                [110,112,113]]])\n",
    "\n",
    "print(\"Shape is : \\n\"+str(J.shape))\n",
    "\n",
    "print(\"Second Row is : \\n\"+str(J[1,...])) # same as J[1,:,:] or J[1]\n",
    "\n",
    "print(\"Second Column is : \\n\"+str(J[...,1])) # same as c[:,:,1]\n"
   ]
  },
  {
   "cell_type": "code",
   "execution_count": null,
   "metadata": {},
   "outputs": [],
   "source": []
  },
  {
   "cell_type": "code",
   "execution_count": null,
   "metadata": {},
   "outputs": [],
   "source": []
  }
 ],
 "metadata": {
  "kernelspec": {
   "display_name": "Python 3",
   "language": "python",
   "name": "python3"
  },
  "language_info": {
   "codemirror_mode": {
    "name": "ipython",
    "version": 3
   },
   "file_extension": ".py",
   "mimetype": "text/x-python",
   "name": "python",
   "nbconvert_exporter": "python",
   "pygments_lexer": "ipython3",
   "version": "3.7.3"
  }
 },
 "nbformat": 4,
 "nbformat_minor": 2
}
